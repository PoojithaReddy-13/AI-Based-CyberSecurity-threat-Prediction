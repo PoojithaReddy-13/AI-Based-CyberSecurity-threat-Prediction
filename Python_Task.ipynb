{
  "nbformat": 4,
  "nbformat_minor": 0,
  "metadata": {
    "colab": {
      "provenance": [],
      "authorship_tag": "ABX9TyM6/j2cmcQUDmXnuuAnUvC7",
      "include_colab_link": true
    },
    "kernelspec": {
      "name": "python3",
      "display_name": "Python 3"
    },
    "language_info": {
      "name": "python"
    }
  },
  "cells": [
    {
      "cell_type": "markdown",
      "metadata": {
        "id": "view-in-github",
        "colab_type": "text"
      },
      "source": [
        "<a href=\"https://colab.research.google.com/github/PoojithaReddy-13/AI-Based-CyberSecurity-threat-Prediction/blob/main/Python_Task.ipynb\" target=\"_parent\"><img src=\"https://colab.research.google.com/assets/colab-badge.svg\" alt=\"Open In Colab\"/></a>"
      ]
    },
    {
      "cell_type": "code",
      "source": [
        "import kagglehub\n",
        "\n",
        "# Download latest version\n",
        "path = kagglehub.dataset_download(\"subhajournal/android-malware-detection\")\n",
        "\n",
        "print(\"Path to dataset files:\", path)"
      ],
      "metadata": {
        "colab": {
          "base_uri": "https://localhost:8080/"
        },
        "id": "kC0bvMOPXiYb",
        "outputId": "6cf1ac91-fef6-466f-9b2c-a84a147e0e70"
      },
      "execution_count": 2,
      "outputs": [
        {
          "output_type": "stream",
          "name": "stdout",
          "text": [
            "Downloading from https://www.kaggle.com/api/v1/datasets/download/subhajournal/android-malware-detection?dataset_version_number=1...\n"
          ]
        },
        {
          "output_type": "stream",
          "name": "stderr",
          "text": [
            "100%|██████████| 45.1M/45.1M [00:00<00:00, 131MB/s]"
          ]
        },
        {
          "output_type": "stream",
          "name": "stdout",
          "text": [
            "Extracting files...\n"
          ]
        },
        {
          "output_type": "stream",
          "name": "stderr",
          "text": [
            "\n"
          ]
        },
        {
          "output_type": "stream",
          "name": "stdout",
          "text": [
            "Path to dataset files: /root/.cache/kagglehub/datasets/subhajournal/android-malware-detection/versions/1\n"
          ]
        }
      ]
    },
    {
      "cell_type": "markdown",
      "source": [
        "Check files inside dataset folder"
      ],
      "metadata": {
        "id": "FCEI9xfSYWH-"
      }
    },
    {
      "cell_type": "code",
      "source": [
        "import os\n",
        "\n",
        "path = \"/root/.cache/kagglehub/datasets/subhajournal/android-malware-detection/versions/1\"\n",
        "print(os.listdir(path))\n"
      ],
      "metadata": {
        "colab": {
          "base_uri": "https://localhost:8080/"
        },
        "id": "ssdYuqACXrKq",
        "outputId": "8813d943-98b3-45bc-e254-3656341f3ca7"
      },
      "execution_count": 3,
      "outputs": [
        {
          "output_type": "stream",
          "name": "stdout",
          "text": [
            "['Android_Malware.csv']\n"
          ]
        }
      ]
    },
    {
      "cell_type": "markdown",
      "source": [
        "Load dataset"
      ],
      "metadata": {
        "id": "J1LRVJ_kYZvg"
      }
    },
    {
      "cell_type": "code",
      "source": [
        "import pandas as pd\n",
        "\n",
        "file_path = path + \"/Android_Malware.csv\"   # change if name is different\n",
        "df = pd.read_csv(file_path)\n",
        "\n",
        "print(\"✅ Dataset Loaded\")\n",
        "print(df.head())\n"
      ],
      "metadata": {
        "colab": {
          "base_uri": "https://localhost:8080/"
        },
        "id": "bFKiUgw0YeUj",
        "outputId": "53cce3c0-f687-49bd-8c32-83d5f4886dc0"
      },
      "execution_count": 4,
      "outputs": [
        {
          "output_type": "stream",
          "name": "stderr",
          "text": [
            "/tmp/ipython-input-2943707294.py:4: DtypeWarning: Columns (56,58,63) have mixed types. Specify dtype option on import or set low_memory=False.\n",
            "  df = pd.read_csv(file_path)\n"
          ]
        },
        {
          "output_type": "stream",
          "name": "stdout",
          "text": [
            "✅ Dataset Loaded\n",
            "   Unnamed: 0                                Flow ID    Source IP  \\\n",
            "0           0  172.217.6.202-10.42.0.211-443-50004-6  10.42.0.211   \n",
            "1           1  172.217.6.202-10.42.0.211-443-35455-6  10.42.0.211   \n",
            "2           2  131.253.61.68-10.42.0.211-443-51775-6  10.42.0.211   \n",
            "3           3  131.253.61.68-10.42.0.211-443-51775-6  10.42.0.211   \n",
            "4           4  131.253.61.68-10.42.0.211-443-51776-6  10.42.0.211   \n",
            "\n",
            "    Source Port  Destination IP   Destination Port   Protocol  \\\n",
            "0         50004   172.217.6.202              443.0        6.0   \n",
            "1         35455   172.217.6.202              443.0        6.0   \n",
            "2         51775   131.253.61.68              443.0        6.0   \n",
            "3         51775   131.253.61.68              443.0        6.0   \n",
            "4         51776   131.253.61.68              443.0        6.0   \n",
            "\n",
            "             Timestamp   Flow Duration   Total Fwd Packets  ...  \\\n",
            "0  13/06/2017 11:52:39           37027                   1  ...   \n",
            "1  13/06/2017 11:52:39           36653                   1  ...   \n",
            "2  13/06/2017 11:52:42          534099                   8  ...   \n",
            "3  13/06/2017 11:52:43            9309                   3  ...   \n",
            "4  13/06/2017 11:52:42        19890496                   8  ...   \n",
            "\n",
            "    min_seg_size_forward  Active Mean   Active Std   Active Max   Active Min  \\\n",
            "0                   32.0          0.0          0.0          0.0          0.0   \n",
            "1                   32.0          0.0          0.0          0.0          0.0   \n",
            "2                   20.0          0.0          0.0          0.0          0.0   \n",
            "3                   20.0          0.0          0.0          0.0          0.0   \n",
            "4                   20.0          0.0          0.0          0.0          0.0   \n",
            "\n",
            "   Idle Mean   Idle Std   Idle Max   Idle Min           Label  \n",
            "0        0.0        0.0        0.0        0.0  Android_Adware  \n",
            "1        0.0        0.0        0.0        0.0  Android_Adware  \n",
            "2        0.0        0.0        0.0        0.0  Android_Adware  \n",
            "3        0.0        0.0        0.0        0.0  Android_Adware  \n",
            "4        0.0        0.0        0.0        0.0  Android_Adware  \n",
            "\n",
            "[5 rows x 86 columns]\n"
          ]
        }
      ]
    },
    {
      "cell_type": "markdown",
      "source": [
        "First 5 rows"
      ],
      "metadata": {
        "id": "1tpN1jwqYi_a"
      }
    },
    {
      "cell_type": "code",
      "source": [
        "print(df.head())"
      ],
      "metadata": {
        "colab": {
          "base_uri": "https://localhost:8080/"
        },
        "id": "bD2GFmzRYmLL",
        "outputId": "865eaa09-d2ba-46f5-dafb-715e51b20313"
      },
      "execution_count": 5,
      "outputs": [
        {
          "output_type": "stream",
          "name": "stdout",
          "text": [
            "   Unnamed: 0                                Flow ID    Source IP  \\\n",
            "0           0  172.217.6.202-10.42.0.211-443-50004-6  10.42.0.211   \n",
            "1           1  172.217.6.202-10.42.0.211-443-35455-6  10.42.0.211   \n",
            "2           2  131.253.61.68-10.42.0.211-443-51775-6  10.42.0.211   \n",
            "3           3  131.253.61.68-10.42.0.211-443-51775-6  10.42.0.211   \n",
            "4           4  131.253.61.68-10.42.0.211-443-51776-6  10.42.0.211   \n",
            "\n",
            "    Source Port  Destination IP   Destination Port   Protocol  \\\n",
            "0         50004   172.217.6.202              443.0        6.0   \n",
            "1         35455   172.217.6.202              443.0        6.0   \n",
            "2         51775   131.253.61.68              443.0        6.0   \n",
            "3         51775   131.253.61.68              443.0        6.0   \n",
            "4         51776   131.253.61.68              443.0        6.0   \n",
            "\n",
            "             Timestamp   Flow Duration   Total Fwd Packets  ...  \\\n",
            "0  13/06/2017 11:52:39           37027                   1  ...   \n",
            "1  13/06/2017 11:52:39           36653                   1  ...   \n",
            "2  13/06/2017 11:52:42          534099                   8  ...   \n",
            "3  13/06/2017 11:52:43            9309                   3  ...   \n",
            "4  13/06/2017 11:52:42        19890496                   8  ...   \n",
            "\n",
            "    min_seg_size_forward  Active Mean   Active Std   Active Max   Active Min  \\\n",
            "0                   32.0          0.0          0.0          0.0          0.0   \n",
            "1                   32.0          0.0          0.0          0.0          0.0   \n",
            "2                   20.0          0.0          0.0          0.0          0.0   \n",
            "3                   20.0          0.0          0.0          0.0          0.0   \n",
            "4                   20.0          0.0          0.0          0.0          0.0   \n",
            "\n",
            "   Idle Mean   Idle Std   Idle Max   Idle Min           Label  \n",
            "0        0.0        0.0        0.0        0.0  Android_Adware  \n",
            "1        0.0        0.0        0.0        0.0  Android_Adware  \n",
            "2        0.0        0.0        0.0        0.0  Android_Adware  \n",
            "3        0.0        0.0        0.0        0.0  Android_Adware  \n",
            "4        0.0        0.0        0.0        0.0  Android_Adware  \n",
            "\n",
            "[5 rows x 86 columns]\n"
          ]
        }
      ]
    },
    {
      "cell_type": "markdown",
      "source": [
        "Last 5 rows"
      ],
      "metadata": {
        "id": "g9ELhFvFYogb"
      }
    },
    {
      "cell_type": "code",
      "source": [
        "print(df.tail())"
      ],
      "metadata": {
        "colab": {
          "base_uri": "https://localhost:8080/"
        },
        "id": "rZB3w61lYqub",
        "outputId": "1fff3afa-0c01-4aa3-a723-ddccf3aadad1"
      },
      "execution_count": 6,
      "outputs": [
        {
          "output_type": "stream",
          "name": "stdout",
          "text": [
            "        Unnamed: 0                                  Flow ID     Source IP  \\\n",
            "355625         405      172.217.7.14-10.42.0.211-80-38405-6  172.217.7.14   \n",
            "355626         406         10.42.0.211-10.42.0.1-7632-53-17   10.42.0.211   \n",
            "355627         407  10.42.0.211-104.192.110.245-45970-443-6   10.42.0.211   \n",
            "355628         408        10.42.0.211-10.42.0.1-51982-53-17   10.42.0.211   \n",
            "355629         409         10.42.0.211-10.42.0.1-9320-53-17   10.42.0.211   \n",
            "\n",
            "         Source Port   Destination IP   Destination Port   Protocol  \\\n",
            "355625            80      10.42.0.211            38405.0        6.0   \n",
            "355626          7632        10.42.0.1               53.0       17.0   \n",
            "355627         45970  104.192.110.245              443.0        6.0   \n",
            "355628         51982        10.42.0.1               53.0       17.0   \n",
            "355629          9320        10.42.0.1               53.0       17.0   \n",
            "\n",
            "                  Timestamp   Flow Duration   Total Fwd Packets  ...  \\\n",
            "355625  17/06/2017 01:29:11          126711                   1  ...   \n",
            "355626  17/06/2017 01:30:33           48012                   1  ...   \n",
            "355627  17/06/2017 01:29:45        20028018                  11  ...   \n",
            "355628  17/06/2017 01:29:45          347926                   1  ...   \n",
            "355629  17/06/2017 01:30:33          125473                   1  ...   \n",
            "\n",
            "         min_seg_size_forward  Active Mean   Active Std   Active Max  \\\n",
            "355625                   32.0          0.0          0.0          0.0   \n",
            "355626                   32.0          0.0          0.0          0.0   \n",
            "355627                   20.0     367528.0          0.0     367528.0   \n",
            "355628                   20.0          0.0          0.0          0.0   \n",
            "355629                   32.0          0.0          0.0          0.0   \n",
            "\n",
            "         Active Min   Idle Mean   Idle Std    Idle Max    Idle Min   Label  \n",
            "355625          0.0         0.0        0.0         0.0         0.0  Benign  \n",
            "355626          0.0         0.0        0.0         0.0         0.0  Benign  \n",
            "355627     367528.0  19660490.0        0.0  19660490.0  19660490.0  Benign  \n",
            "355628          0.0         0.0        0.0         0.0         0.0  Benign  \n",
            "355629          0.0         0.0        0.0         0.0         0.0  Benign  \n",
            "\n",
            "[5 rows x 86 columns]\n"
          ]
        }
      ]
    },
    {
      "cell_type": "markdown",
      "source": [
        "Shape of dataset (rows, columns)"
      ],
      "metadata": {
        "id": "kEbexQOjYtNg"
      }
    },
    {
      "cell_type": "code",
      "source": [
        "print(df.shape)\n"
      ],
      "metadata": {
        "colab": {
          "base_uri": "https://localhost:8080/"
        },
        "id": "Vy6-w-9BYyFb",
        "outputId": "fe7d34c0-070e-4bb1-e8e1-642e945e78ac"
      },
      "execution_count": 7,
      "outputs": [
        {
          "output_type": "stream",
          "name": "stdout",
          "text": [
            "(355630, 86)\n"
          ]
        }
      ]
    },
    {
      "cell_type": "markdown",
      "source": [
        "Column names"
      ],
      "metadata": {
        "id": "-Hi79XfyY0hA"
      }
    },
    {
      "cell_type": "code",
      "source": [
        "print(df.columns.tolist())\n"
      ],
      "metadata": {
        "colab": {
          "base_uri": "https://localhost:8080/"
        },
        "id": "r76ySihXY3ut",
        "outputId": "9fc845ad-dd65-42ac-bfa0-20e8aeb6156e"
      },
      "execution_count": 8,
      "outputs": [
        {
          "output_type": "stream",
          "name": "stdout",
          "text": [
            "['Unnamed: 0', 'Flow ID', ' Source IP', ' Source Port', ' Destination IP', ' Destination Port', ' Protocol', ' Timestamp', ' Flow Duration', ' Total Fwd Packets', ' Total Backward Packets', 'Total Length of Fwd Packets', ' Total Length of Bwd Packets', ' Fwd Packet Length Max', ' Fwd Packet Length Min', ' Fwd Packet Length Mean', ' Fwd Packet Length Std', 'Bwd Packet Length Max', ' Bwd Packet Length Min', ' Bwd Packet Length Mean', ' Bwd Packet Length Std', 'Flow Bytes/s', ' Flow Packets/s', ' Flow IAT Mean', ' Flow IAT Std', ' Flow IAT Max', ' Flow IAT Min', 'Fwd IAT Total', ' Fwd IAT Mean', ' Fwd IAT Std', ' Fwd IAT Max', ' Fwd IAT Min', 'Bwd IAT Total', ' Bwd IAT Mean', ' Bwd IAT Std', ' Bwd IAT Max', ' Bwd IAT Min', 'Fwd PSH Flags', ' Bwd PSH Flags', ' Fwd URG Flags', ' Bwd URG Flags', ' Fwd Header Length', ' Bwd Header Length', 'Fwd Packets/s', ' Bwd Packets/s', ' Min Packet Length', ' Max Packet Length', ' Packet Length Mean', ' Packet Length Std', ' Packet Length Variance', 'FIN Flag Count', ' SYN Flag Count', ' RST Flag Count', ' PSH Flag Count', ' ACK Flag Count', ' URG Flag Count', ' CWE Flag Count', ' ECE Flag Count', ' Down/Up Ratio', ' Average Packet Size', ' Avg Fwd Segment Size', ' Avg Bwd Segment Size', ' Fwd Header Length.1', 'Fwd Avg Bytes/Bulk', ' Fwd Avg Packets/Bulk', ' Fwd Avg Bulk Rate', ' Bwd Avg Bytes/Bulk', ' Bwd Avg Packets/Bulk', 'Bwd Avg Bulk Rate', 'Subflow Fwd Packets', ' Subflow Fwd Bytes', ' Subflow Bwd Packets', ' Subflow Bwd Bytes', 'Init_Win_bytes_forward', ' Init_Win_bytes_backward', ' act_data_pkt_fwd', ' min_seg_size_forward', 'Active Mean', ' Active Std', ' Active Max', ' Active Min', 'Idle Mean', ' Idle Std', ' Idle Max', ' Idle Min', 'Label']\n"
          ]
        }
      ]
    },
    {
      "cell_type": "markdown",
      "source": [
        "Dataset info"
      ],
      "metadata": {
        "id": "FRorDZV6Y6EX"
      }
    },
    {
      "cell_type": "code",
      "source": [
        "print(df.info())\n"
      ],
      "metadata": {
        "colab": {
          "base_uri": "https://localhost:8080/"
        },
        "id": "rQIiXZGHY8bT",
        "outputId": "faac845d-68e6-4264-a2b8-1316d1446ef2"
      },
      "execution_count": 9,
      "outputs": [
        {
          "output_type": "stream",
          "name": "stdout",
          "text": [
            "<class 'pandas.core.frame.DataFrame'>\n",
            "RangeIndex: 355630 entries, 0 to 355629\n",
            "Data columns (total 86 columns):\n",
            " #   Column                        Non-Null Count   Dtype  \n",
            "---  ------                        --------------   -----  \n",
            " 0   Unnamed: 0                    355630 non-null  int64  \n",
            " 1   Flow ID                       355629 non-null  object \n",
            " 2    Source IP                    355630 non-null  object \n",
            " 3    Source Port                  355630 non-null  int64  \n",
            " 4    Destination IP               355630 non-null  object \n",
            " 5    Destination Port             355630 non-null  float64\n",
            " 6    Protocol                     355630 non-null  float64\n",
            " 7    Timestamp                    355630 non-null  object \n",
            " 8    Flow Duration                355630 non-null  int64  \n",
            " 9    Total Fwd Packets            355630 non-null  int64  \n",
            " 10   Total Backward Packets       355630 non-null  int64  \n",
            " 11  Total Length of Fwd Packets   355630 non-null  float64\n",
            " 12   Total Length of Bwd Packets  355630 non-null  float64\n",
            " 13   Fwd Packet Length Max        355630 non-null  float64\n",
            " 14   Fwd Packet Length Min        355630 non-null  float64\n",
            " 15   Fwd Packet Length Mean       355630 non-null  float64\n",
            " 16   Fwd Packet Length Std        355630 non-null  float64\n",
            " 17  Bwd Packet Length Max         355630 non-null  float64\n",
            " 18   Bwd Packet Length Min        355630 non-null  float64\n",
            " 19   Bwd Packet Length Mean       355630 non-null  float64\n",
            " 20   Bwd Packet Length Std        355630 non-null  float64\n",
            " 21  Flow Bytes/s                  355630 non-null  float64\n",
            " 22   Flow Packets/s               355630 non-null  float64\n",
            " 23   Flow IAT Mean                355630 non-null  float64\n",
            " 24   Flow IAT Std                 355630 non-null  float64\n",
            " 25   Flow IAT Max                 355630 non-null  float64\n",
            " 26   Flow IAT Min                 355630 non-null  float64\n",
            " 27  Fwd IAT Total                 355630 non-null  float64\n",
            " 28   Fwd IAT Mean                 355630 non-null  float64\n",
            " 29   Fwd IAT Std                  355630 non-null  float64\n",
            " 30   Fwd IAT Max                  355630 non-null  float64\n",
            " 31   Fwd IAT Min                  355630 non-null  float64\n",
            " 32  Bwd IAT Total                 355630 non-null  float64\n",
            " 33   Bwd IAT Mean                 355630 non-null  float64\n",
            " 34   Bwd IAT Std                  355630 non-null  float64\n",
            " 35   Bwd IAT Max                  355630 non-null  float64\n",
            " 36   Bwd IAT Min                  355630 non-null  float64\n",
            " 37  Fwd PSH Flags                 355630 non-null  float64\n",
            " 38   Bwd PSH Flags                355630 non-null  float64\n",
            " 39   Fwd URG Flags                355630 non-null  int64  \n",
            " 40   Bwd URG Flags                355630 non-null  int64  \n",
            " 41   Fwd Header Length            355630 non-null  int64  \n",
            " 42   Bwd Header Length            355630 non-null  int64  \n",
            " 43  Fwd Packets/s                 355630 non-null  float64\n",
            " 44   Bwd Packets/s                355629 non-null  float64\n",
            " 45   Min Packet Length            355629 non-null  float64\n",
            " 46   Max Packet Length            355629 non-null  float64\n",
            " 47   Packet Length Mean           355629 non-null  float64\n",
            " 48   Packet Length Std            355629 non-null  float64\n",
            " 49   Packet Length Variance       355629 non-null  float64\n",
            " 50  FIN Flag Count                355629 non-null  float64\n",
            " 51   SYN Flag Count               355629 non-null  float64\n",
            " 52   RST Flag Count               355629 non-null  float64\n",
            " 53   PSH Flag Count               355629 non-null  float64\n",
            " 54   ACK Flag Count               355629 non-null  float64\n",
            " 55   URG Flag Count               355629 non-null  float64\n",
            " 56   CWE Flag Count               355629 non-null  object \n",
            " 57   ECE Flag Count               355628 non-null  float64\n",
            " 58   Down/Up Ratio                355628 non-null  object \n",
            " 59   Average Packet Size          355627 non-null  float64\n",
            " 60   Avg Fwd Segment Size         355627 non-null  float64\n",
            " 61   Avg Bwd Segment Size         355627 non-null  float64\n",
            " 62   Fwd Header Length.1          355627 non-null  float64\n",
            " 63  Fwd Avg Bytes/Bulk            355627 non-null  object \n",
            " 64   Fwd Avg Packets/Bulk         355626 non-null  float64\n",
            " 65   Fwd Avg Bulk Rate            355626 non-null  float64\n",
            " 66   Bwd Avg Bytes/Bulk           355626 non-null  float64\n",
            " 67   Bwd Avg Packets/Bulk         355626 non-null  float64\n",
            " 68  Bwd Avg Bulk Rate             355626 non-null  float64\n",
            " 69  Subflow Fwd Packets           355626 non-null  float64\n",
            " 70   Subflow Fwd Bytes            355626 non-null  float64\n",
            " 71   Subflow Bwd Packets          355626 non-null  float64\n",
            " 72   Subflow Bwd Bytes            355626 non-null  float64\n",
            " 73  Init_Win_bytes_forward        355626 non-null  float64\n",
            " 74   Init_Win_bytes_backward      355626 non-null  float64\n",
            " 75   act_data_pkt_fwd             355626 non-null  float64\n",
            " 76   min_seg_size_forward         355626 non-null  float64\n",
            " 77  Active Mean                   355626 non-null  float64\n",
            " 78   Active Std                   355626 non-null  float64\n",
            " 79   Active Max                   355626 non-null  float64\n",
            " 80   Active Min                   355626 non-null  float64\n",
            " 81  Idle Mean                     355626 non-null  float64\n",
            " 82   Idle Std                     355626 non-null  float64\n",
            " 83   Idle Max                     355626 non-null  float64\n",
            " 84   Idle Min                     355626 non-null  float64\n",
            " 85  Label                         355630 non-null  object \n",
            "dtypes: float64(69), int64(9), object(8)\n",
            "memory usage: 233.3+ MB\n",
            "None\n"
          ]
        }
      ]
    },
    {
      "cell_type": "markdown",
      "source": [
        "Missing values"
      ],
      "metadata": {
        "id": "SPZxLdgnY-6D"
      }
    },
    {
      "cell_type": "code",
      "source": [
        "print(df.isnull().sum())\n"
      ],
      "metadata": {
        "colab": {
          "base_uri": "https://localhost:8080/"
        },
        "id": "7EawvuvOZBLI",
        "outputId": "a1a47153-806f-4af2-86d4-08a9e98a503d"
      },
      "execution_count": 10,
      "outputs": [
        {
          "output_type": "stream",
          "name": "stdout",
          "text": [
            "Unnamed: 0         0\n",
            "Flow ID            1\n",
            " Source IP         0\n",
            " Source Port       0\n",
            " Destination IP    0\n",
            "                  ..\n",
            "Idle Mean          4\n",
            " Idle Std          4\n",
            " Idle Max          4\n",
            " Idle Min          4\n",
            "Label              0\n",
            "Length: 86, dtype: int64\n"
          ]
        }
      ]
    },
    {
      "cell_type": "markdown",
      "source": [
        "Summary statistics"
      ],
      "metadata": {
        "id": "84lZzBYBZDKZ"
      }
    },
    {
      "cell_type": "code",
      "source": [
        "print(df.describe())\n"
      ],
      "metadata": {
        "colab": {
          "base_uri": "https://localhost:8080/"
        },
        "id": "e4RSYb8FZE51",
        "outputId": "b607b753-2af9-42cc-c04c-399554bd971e"
      },
      "execution_count": 11,
      "outputs": [
        {
          "output_type": "stream",
          "name": "stdout",
          "text": [
            "          Unnamed: 0   Source Port   Destination Port       Protocol  \\\n",
            "count  355630.000000  3.556300e+05       3.556300e+05  355630.000000   \n",
            "mean     1945.719231  3.914129e+04       5.202541e+03       9.765190   \n",
            "std      1840.477646  1.794632e+04       1.452135e+04     750.541237   \n",
            "min         0.000000  0.000000e+00       0.000000e+00       0.000000   \n",
            "25%       640.000000  3.455900e+04       8.000000e+01       6.000000   \n",
            "50%      1568.000000  4.322600e+04       4.430000e+02       6.000000   \n",
            "75%      2718.000000  5.228300e+04       4.430000e+02       6.000000   \n",
            "max     14157.000000  1.045267e+06       1.328159e+06  442719.666667   \n",
            "\n",
            "        Flow Duration   Total Fwd Packets   Total Backward Packets  \\\n",
            "count    3.556300e+05       355630.000000             3.556300e+05   \n",
            "mean     1.092975e+07            7.433718             1.420368e+01   \n",
            "std      2.180861e+07           81.015658             2.220247e+03   \n",
            "min     -1.000000e+00            0.000000             0.000000e+00   \n",
            "25%      4.888600e+04            1.000000             0.000000e+00   \n",
            "50%      5.602255e+05            2.000000             1.000000e+00   \n",
            "75%      1.076907e+07            5.000000             4.000000e+00   \n",
            "max      1.199999e+08        27165.000000             1.319105e+06   \n",
            "\n",
            "       Total Length of Fwd Packets   Total Length of Bwd Packets  \\\n",
            "count                 3.556300e+05                  3.556300e+05   \n",
            "mean                  6.796042e+02                  1.129508e+04   \n",
            "std                   1.942007e+04                  2.763871e+05   \n",
            "min                   0.000000e+00                  0.000000e+00   \n",
            "25%                   0.000000e+00                  0.000000e+00   \n",
            "50%                   3.100000e+01                  2.600000e+01   \n",
            "75%                   4.300000e+02                  3.010000e+02   \n",
            "max                   9.043781e+06                  8.050972e+07   \n",
            "\n",
            "        Fwd Packet Length Max  ...   act_data_pkt_fwd   min_seg_size_forward  \\\n",
            "count            3.556300e+05  ...      355626.000000           3.556260e+05   \n",
            "mean             2.150150e+02  ...           1.524405          -2.831850e+04   \n",
            "std              1.834912e+03  ...          14.938322           5.543875e+06   \n",
            "min              0.000000e+00  ...           0.000000          -1.395063e+09   \n",
            "25%              0.000000e+00  ...           0.000000           2.000000e+01   \n",
            "50%              3.100000e+01  ...           0.000000           3.200000e+01   \n",
            "75%              3.430000e+02  ...           1.000000           3.200000e+01   \n",
            "max              1.072354e+06  ...        6335.000000           1.705248e+08   \n",
            "\n",
            "        Active Mean    Active Std    Active Max    Active Min     Idle Mean  \\\n",
            "count  3.556260e+05  3.556260e+05  3.556260e+05  3.556260e+05  3.556260e+05   \n",
            "mean   1.628143e+05  2.195225e+04  1.851564e+05  1.456534e+05  4.025724e+06   \n",
            "std    8.817765e+05  2.860244e+05  1.019477e+06  8.423659e+05  1.441518e+07   \n",
            "min    0.000000e+00  0.000000e+00  0.000000e+00  0.000000e+00  0.000000e+00   \n",
            "25%    0.000000e+00  0.000000e+00  0.000000e+00  0.000000e+00  0.000000e+00   \n",
            "50%    0.000000e+00  0.000000e+00  0.000000e+00  0.000000e+00  0.000000e+00   \n",
            "75%    0.000000e+00  0.000000e+00  0.000000e+00  0.000000e+00  0.000000e+00   \n",
            "max    9.718488e+07  4.020815e+07  9.718488e+07  9.718488e+07  1.199514e+08   \n",
            "\n",
            "           Idle Std      Idle Max      Idle Min  \n",
            "count  3.556260e+05  3.556260e+05  3.556260e+05  \n",
            "mean   3.182527e+05  4.304876e+06  3.779037e+06  \n",
            "std    2.882901e+06  1.514008e+07  1.407042e+07  \n",
            "min    0.000000e+00  0.000000e+00  0.000000e+00  \n",
            "25%    0.000000e+00  0.000000e+00  0.000000e+00  \n",
            "50%    0.000000e+00  0.000000e+00  0.000000e+00  \n",
            "75%    0.000000e+00  0.000000e+00  0.000000e+00  \n",
            "max    7.737303e+07  1.199514e+08  1.199514e+08  \n",
            "\n",
            "[8 rows x 78 columns]\n"
          ]
        }
      ]
    },
    {
      "cell_type": "markdown",
      "source": [
        "Unique values per column"
      ],
      "metadata": {
        "id": "9-7zhl1XZH0p"
      }
    },
    {
      "cell_type": "code",
      "source": [
        "print(df.nunique())\n"
      ],
      "metadata": {
        "colab": {
          "base_uri": "https://localhost:8080/"
        },
        "id": "0up0DsLzZJfd",
        "outputId": "beb67902-6924-4812-87b9-660623be4f60"
      },
      "execution_count": 12,
      "outputs": [
        {
          "output_type": "stream",
          "name": "stdout",
          "text": [
            "Unnamed: 0          14158\n",
            "Flow ID            176955\n",
            " Source IP           2536\n",
            " Source Port        51343\n",
            " Destination IP      4746\n",
            "                    ...  \n",
            "Idle Mean           39823\n",
            " Idle Std            8887\n",
            " Idle Max           39789\n",
            " Idle Min           39784\n",
            "Label                   4\n",
            "Length: 86, dtype: int64\n"
          ]
        }
      ]
    },
    {
      "cell_type": "markdown",
      "source": [
        "Class distribution (Malware/Benign)"
      ],
      "metadata": {
        "id": "Uxj63ITZZZc4"
      }
    },
    {
      "cell_type": "code",
      "source": [
        "print(df['Label'].value_counts())\n"
      ],
      "metadata": {
        "colab": {
          "base_uri": "https://localhost:8080/"
        },
        "id": "4EKZbYOsZaIS",
        "outputId": "a35a966f-2b2f-4393-bcb5-43b25af25ce8"
      },
      "execution_count": 13,
      "outputs": [
        {
          "output_type": "stream",
          "name": "stdout",
          "text": [
            "Label\n",
            "Android_Adware         147443\n",
            "Android_Scareware      117082\n",
            "Android_SMS_Malware     67397\n",
            "Benign                  23708\n",
            "Name: count, dtype: int64\n"
          ]
        }
      ]
    },
    {
      "cell_type": "markdown",
      "source": [
        "Correlation matrix"
      ],
      "metadata": {
        "id": "Ut5Wtsx0Zckg"
      }
    },
    {
      "cell_type": "code",
      "source": [
        "print(df.corr(numeric_only=True))\n"
      ],
      "metadata": {
        "colab": {
          "base_uri": "https://localhost:8080/"
        },
        "id": "3_DTsTOLZesH",
        "outputId": "bd21bbb7-56c0-4df8-9372-412c930d91c9"
      },
      "execution_count": 14,
      "outputs": [
        {
          "output_type": "stream",
          "name": "stdout",
          "text": [
            "                   Unnamed: 0   Source Port   Destination Port   Protocol  \\\n",
            "Unnamed: 0           1.000000     -0.131677           0.026746   0.002666   \n",
            " Source Port        -0.131677      1.000000          -0.638041   0.093432   \n",
            " Destination Port    0.026746     -0.638041           1.000000   0.150692   \n",
            " Protocol            0.002666      0.093432           0.150692   1.000000   \n",
            " Flow Duration      -0.143039      0.100486          -0.114886  -0.002510   \n",
            "...                       ...           ...                ...        ...   \n",
            " Active Min         -0.031029      0.059843          -0.043049  -0.081441   \n",
            "Idle Mean           -0.065422      0.047501          -0.056215  -0.151478   \n",
            " Idle Std           -0.043395      0.000274          -0.013573  -0.066924   \n",
            " Idle Max           -0.069534      0.044705          -0.054741  -0.155369   \n",
            " Idle Min           -0.060155      0.049202          -0.055786  -0.144400   \n",
            "\n",
            "                    Flow Duration   Total Fwd Packets  \\\n",
            "Unnamed: 0              -0.143039           -0.027581   \n",
            " Source Port             0.100486            0.081225   \n",
            " Destination Port       -0.114886            0.064970   \n",
            " Protocol               -0.002510            0.555766   \n",
            " Flow Duration           1.000000            0.070104   \n",
            "...                           ...                 ...   \n",
            " Active Min              0.280215            0.096200   \n",
            "Idle Mean                0.727963            0.057638   \n",
            " Idle Std                0.387766            0.047556   \n",
            " Idle Max                0.760073            0.063726   \n",
            " Idle Min                0.682993            0.051499   \n",
            "\n",
            "                    Total Backward Packets  Total Length of Fwd Packets  \\\n",
            "Unnamed: 0                       -0.001179                    -0.011478   \n",
            " Source Port                      0.095434                     0.011028   \n",
            " Destination Port                 0.150871                    -0.002850   \n",
            " Protocol                         0.985409                     0.012386   \n",
            " Flow Duration                    0.003591                     0.022224   \n",
            "...                                    ...                          ...   \n",
            " Active Min                       0.067389                     0.033978   \n",
            "Idle Mean                         0.032510                     0.019561   \n",
            " Idle Std                         0.027984                     0.016539   \n",
            " Idle Max                         0.036138                     0.021309   \n",
            " Idle Min                         0.028983                     0.017424   \n",
            "\n",
            "                    Total Length of Bwd Packets   Fwd Packet Length Max  ...  \\\n",
            "Unnamed: 0                            -0.016610               -0.030810  ...   \n",
            " Source Port                           0.017501                0.130546  ...   \n",
            " Destination Port                     -0.013418                0.123946  ...   \n",
            " Protocol                              0.001942                0.968936  ...   \n",
            " Flow Duration                         0.039116                0.043332  ...   \n",
            "...                                         ...                     ...  ...   \n",
            " Active Min                            0.058613                0.167014  ...   \n",
            "Idle Mean                              0.023189                0.241291  ...   \n",
            " Idle Std                              0.020802                0.106895  ...   \n",
            " Idle Max                              0.025897                0.245492  ...   \n",
            " Idle Min                              0.020617                0.231009  ...   \n",
            "\n",
            "                    act_data_pkt_fwd   min_seg_size_forward  Active Mean  \\\n",
            "Unnamed: 0                 -0.028423               0.000681    -0.036581   \n",
            " Source Port                0.031980              -0.000202     0.055010   \n",
            " Destination Port          -0.018803               0.001711    -0.038344   \n",
            " Protocol                  -0.016619              -0.009700    -0.081926   \n",
            " Flow Duration              0.099215               0.002013     0.336812   \n",
            "...                              ...                    ...          ...   \n",
            " Active Min                 0.100907               0.000884     0.968276   \n",
            "Idle Mean                   0.075169               0.001428     0.349140   \n",
            " Idle Std                   0.068517               0.000564     0.194361   \n",
            " Idle Max                   0.084933               0.001454     0.368114   \n",
            " Idle Min                   0.065645               0.001373     0.326112   \n",
            "\n",
            "                    Active Std   Active Max   Active Min  Idle Mean  \\\n",
            "Unnamed: 0           -0.026830    -0.039803    -0.031029  -0.065422   \n",
            " Source Port         -0.006172     0.046133     0.059843   0.047501   \n",
            " Destination Port     0.008380    -0.029967    -0.043049  -0.056215   \n",
            " Protocol            -0.017137    -0.076711    -0.081441  -0.151478   \n",
            " Flow Duration        0.265150     0.373450     0.280215   0.727963   \n",
            "...                        ...          ...          ...        ...   \n",
            " Active Min           0.051021     0.851348     1.000000   0.338297   \n",
            "Idle Mean             0.104626     0.329090     0.338297   1.000000   \n",
            " Idle Std             0.373092     0.263435     0.107276   0.230720   \n",
            " Idle Max             0.166802     0.363040     0.341661   0.987988   \n",
            " Idle Min             0.047249     0.293871     0.329075   0.988720   \n",
            "\n",
            "                    Idle Std   Idle Max   Idle Min  \n",
            "Unnamed: 0         -0.043395  -0.069534  -0.060155  \n",
            " Source Port        0.000274   0.044705   0.049202  \n",
            " Destination Port  -0.013573  -0.054741  -0.055786  \n",
            " Protocol          -0.066924  -0.155369  -0.144400  \n",
            " Flow Duration      0.387766   0.760073   0.682993  \n",
            "...                      ...        ...        ...  \n",
            " Active Min         0.107276   0.341661   0.329075  \n",
            "Idle Mean           0.230720   0.987988   0.988720  \n",
            " Idle Std           1.000000   0.372566   0.084315  \n",
            " Idle Max           0.372566   1.000000   0.954612  \n",
            " Idle Min           0.084315   0.954612   1.000000  \n",
            "\n",
            "[78 rows x 78 columns]\n"
          ]
        }
      ]
    },
    {
      "cell_type": "markdown",
      "source": [
        "Features most correlated with Label"
      ],
      "metadata": {
        "id": "qEEKybHaZiwA"
      }
    },
    {
      "cell_type": "markdown",
      "source": [
        "Duplicate rows"
      ],
      "metadata": {
        "id": "ciZQBHYKZ8nm"
      }
    },
    {
      "cell_type": "code",
      "source": [
        "print(df.duplicated().sum())\n"
      ],
      "metadata": {
        "colab": {
          "base_uri": "https://localhost:8080/"
        },
        "id": "jvTG-hb4Z77Y",
        "outputId": "7ac541c5-2d34-4b98-8135-fa637b2c71a4"
      },
      "execution_count": 17,
      "outputs": [
        {
          "output_type": "stream",
          "name": "stdout",
          "text": [
            "2885\n"
          ]
        }
      ]
    },
    {
      "cell_type": "markdown",
      "source": [
        "Class distribution percentage"
      ],
      "metadata": {
        "id": "RNk1O5lPaD8R"
      }
    },
    {
      "cell_type": "code",
      "source": [
        "print(df['Label'].value_counts(normalize=True)*100)\n"
      ],
      "metadata": {
        "colab": {
          "base_uri": "https://localhost:8080/"
        },
        "id": "UxFczk4PaEj_",
        "outputId": "072d927a-3e24-4100-a764-e38392081249"
      },
      "execution_count": 18,
      "outputs": [
        {
          "output_type": "stream",
          "name": "stdout",
          "text": [
            "Label\n",
            "Android_Adware         41.459663\n",
            "Android_Scareware      32.922419\n",
            "Android_SMS_Malware    18.951438\n",
            "Benign                  6.666479\n",
            "Name: proportion, dtype: float64\n"
          ]
        }
      ]
    },
    {
      "cell_type": "markdown",
      "source": [
        "Columns with zero variance"
      ],
      "metadata": {
        "id": "2h2eSxipaHPU"
      }
    },
    {
      "cell_type": "code",
      "source": [
        "zero_var_cols = [col for col in df.columns if df[col].nunique() <= 1]\n",
        "print(zero_var_cols)\n"
      ],
      "metadata": {
        "colab": {
          "base_uri": "https://localhost:8080/"
        },
        "id": "n-hg6mjRaMAk",
        "outputId": "c5471b1c-21e8-4f1c-e4b1-68fe7019f32c"
      },
      "execution_count": 19,
      "outputs": [
        {
          "output_type": "stream",
          "name": "stdout",
          "text": [
            "[' ECE Flag Count', ' Fwd Avg Packets/Bulk', ' Fwd Avg Bulk Rate', ' Bwd Avg Bytes/Bulk', ' Bwd Avg Packets/Bulk', 'Bwd Avg Bulk Rate']\n"
          ]
        }
      ]
    },
    {
      "cell_type": "markdown",
      "source": [
        "Data types"
      ],
      "metadata": {
        "id": "nEVGu4uraOUA"
      }
    },
    {
      "cell_type": "code",
      "source": [
        "print(df.dtypes)\n"
      ],
      "metadata": {
        "colab": {
          "base_uri": "https://localhost:8080/"
        },
        "id": "cpaNpstHaQWn",
        "outputId": "862bcd9c-0590-4ef9-bfe0-efa9d5a2e13c"
      },
      "execution_count": 20,
      "outputs": [
        {
          "output_type": "stream",
          "name": "stdout",
          "text": [
            "Unnamed: 0           int64\n",
            "Flow ID             object\n",
            " Source IP          object\n",
            " Source Port         int64\n",
            " Destination IP     object\n",
            "                    ...   \n",
            "Idle Mean          float64\n",
            " Idle Std          float64\n",
            " Idle Max          float64\n",
            " Idle Min          float64\n",
            "Label               object\n",
            "Length: 86, dtype: object\n"
          ]
        }
      ]
    },
    {
      "cell_type": "markdown",
      "source": [
        "Top 5 rows sorted by first numeric column"
      ],
      "metadata": {
        "id": "fi4VHM-8aSbV"
      }
    },
    {
      "cell_type": "code",
      "source": [
        "first_num_col = df.select_dtypes(include=['int64','float64']).columns[0]\n",
        "print(df.sort_values(by=first_num_col, ascending=False).head())\n"
      ],
      "metadata": {
        "colab": {
          "base_uri": "https://localhost:8080/"
        },
        "id": "7RqmuffYaUOn",
        "outputId": "faebc6fb-89e3-4fb1-f216-d5f813d20fd2"
      },
      "execution_count": 21,
      "outputs": [
        {
          "output_type": "stream",
          "name": "stdout",
          "text": [
            "        Unnamed: 0                                Flow ID    Source IP  \\\n",
            "112241       14157      10.42.0.211-10.42.0.1-47966-53-17  10.42.0.211   \n",
            "112240       14156      10.42.0.211-10.42.0.1-30610-53-17  10.42.0.211   \n",
            "112239       14155  10.42.0.211-64.71.142.120-53094-443-6  10.42.0.211   \n",
            "112238       14154      10.42.0.211-10.42.0.1-30991-53-17  10.42.0.211   \n",
            "112237       14153    10.42.0.211-10.42.0.1-44495-5351-17  10.42.0.211   \n",
            "\n",
            "         Source Port  Destination IP   Destination Port   Protocol  \\\n",
            "112241         47966       10.42.0.1               53.0       17.0   \n",
            "112240         30610       10.42.0.1               53.0       17.0   \n",
            "112239         53094   64.71.142.120              443.0        6.0   \n",
            "112238         30991       10.42.0.1               53.0       17.0   \n",
            "112237         44495       10.42.0.1             5351.0       17.0   \n",
            "\n",
            "                  Timestamp   Flow Duration   Total Fwd Packets  ...  \\\n",
            "112241  15/06/2017 04:31:56           50356                   1  ...   \n",
            "112240  15/06/2017 04:55:57            1632                   1  ...   \n",
            "112239  15/06/2017 04:31:36           71661                   1  ...   \n",
            "112238  15/06/2017 04:31:20         1332093                   1  ...   \n",
            "112237  15/06/2017 04:49:22         1905245                   4  ...   \n",
            "\n",
            "         min_seg_size_forward  Active Mean   Active Std   Active Max  \\\n",
            "112241                   40.0          0.0          0.0          0.0   \n",
            "112240                   20.0          0.0          0.0          0.0   \n",
            "112239                   20.0          0.0          0.0          0.0   \n",
            "112238                   20.0          0.0          0.0          0.0   \n",
            "112237                   32.0          0.0          0.0          0.0   \n",
            "\n",
            "         Active Min  Idle Mean   Idle Std   Idle Max   Idle Min  \\\n",
            "112241          0.0        0.0        0.0        0.0        0.0   \n",
            "112240          0.0        0.0        0.0        0.0        0.0   \n",
            "112239          0.0        0.0        0.0        0.0        0.0   \n",
            "112238          0.0        0.0        0.0        0.0        0.0   \n",
            "112237          0.0        0.0        0.0        0.0        0.0   \n",
            "\n",
            "                 Label  \n",
            "112241  Android_Adware  \n",
            "112240  Android_Adware  \n",
            "112239  Android_Adware  \n",
            "112238  Android_Adware  \n",
            "112237  Android_Adware  \n",
            "\n",
            "[5 rows x 86 columns]\n"
          ]
        }
      ]
    },
    {
      "cell_type": "markdown",
      "source": [
        "Correlation heatmap (saved as image)"
      ],
      "metadata": {
        "id": "8d82kPBraWdf"
      }
    },
    {
      "cell_type": "code",
      "source": [
        "import matplotlib.pyplot as plt\n",
        "\n",
        "plt.figure(figsize=(10,6))\n",
        "plt.imshow(df.corr(numeric_only=True), cmap=\"coolwarm\", aspect=\"auto\")\n",
        "plt.title(\"Correlation Heatmap\")\n",
        "plt.colorbar()\n",
        "plt.savefig(\"correlation_heatmap.png\")\n",
        "print(\"✅ Heatmap saved as correlation_heatmap.png\")\n"
      ],
      "metadata": {
        "colab": {
          "base_uri": "https://localhost:8080/",
          "height": 562
        },
        "id": "c9b9Dew2aYM4",
        "outputId": "a6a88b8f-8623-4715-963d-d65a9903589a"
      },
      "execution_count": 22,
      "outputs": [
        {
          "output_type": "stream",
          "name": "stdout",
          "text": [
            "✅ Heatmap saved as correlation_heatmap.png\n"
          ]
        },
        {
          "output_type": "display_data",
          "data": {
            "text/plain": [
              "<Figure size 1000x600 with 2 Axes>"
            ],
            "image/png": "[encoded data removed]"
          },
          "metadata": {}
        }
      ]
    },
    {
      "cell_type": "markdown",
      "source": [
        "Value counts of categorical columns"
      ],
      "metadata": {
        "id": "IMKLLMYUadHH"
      }
    },
    {
      "cell_type": "code",
      "source": [
        "cat_cols = df.select_dtypes(include=['object']).columns\n",
        "for col in cat_cols:\n",
        "    print(df[col].value_counts().head())\n"
      ],
      "metadata": {
        "colab": {
          "base_uri": "https://localhost:8080/"
        },
        "id": "fUjlzlznawVW",
        "outputId": "8a89dc89-9a07-416a-d4db-2f9dc0ebe37f"
      },
      "execution_count": 23,
      "outputs": [
        {
          "output_type": "stream",
          "name": "stdout",
          "text": [
            "Flow ID\n",
            "8.0.6.4-8.6.0.1-0-0-0                   2097\n",
            "224.0.0.251-10.42.0.1-5353-5353-17       163\n",
            "224.0.0.251-10.42.0.211-5353-5353-17     107\n",
            "10.42.0.255-10.42.0.1-8612-8612-17        97\n",
            "10.42.0.255-10.42.0.1-8610-8612-17        96\n",
            "Name: count, dtype: int64\n",
            " Source IP\n",
            "10.42.0.211    178753\n",
            "10.42.0.151    120171\n",
            "10.42.0.42      17957\n",
            "8.6.0.1          2097\n",
            "10.42.0.1        1768\n",
            "Name: count, dtype: int64\n",
            " Destination IP\n",
            "10.42.0.1          67213\n",
            "10.42.0.211        19934\n",
            "10.42.0.151        13069\n",
            "119.146.74.48       6312\n",
            "183.232.231.172     6067\n",
            "Name: count, dtype: int64\n",
            " Timestamp\n",
            "30/06/2017 01:14:36    135\n",
            "28/06/2017 04:27:19     93\n",
            "30/06/2017 10:21:39     92\n",
            "14/06/2017 08:55:45     89\n",
            "30/06/2017 12:19:51     86\n",
            "Name: count, dtype: int64\n",
            " CWE Flag Count\n",
            "0            347437\n",
            "0              8191\n",
            "SCAREWARE         1\n",
            "Name: count, dtype: int64\n",
            " Down/Up Ratio\n",
            "0.0    170669\n",
            "1.0    164998\n",
            "2.0      8705\n",
            "0        4116\n",
            "1        3665\n",
            "Name: count, dtype: int64\n",
            "Fwd Avg Bytes/Bulk\n",
            "0         347435\n",
            "0.0         5811\n",
            "0           2380\n",
            "BENIGN         1\n",
            "Name: count, dtype: int64\n",
            "Label\n",
            "Android_Adware         147443\n",
            "Android_Scareware      117082\n",
            "Android_SMS_Malware     67397\n",
            "Benign                  23708\n",
            "Name: count, dtype: int64\n"
          ]
        }
      ]
    },
    {
      "cell_type": "markdown",
      "source": [
        "Mean of each numeric feature grouped by Label"
      ],
      "metadata": {
        "id": "AqlXA_BJayzg"
      }
    },
    {
      "cell_type": "code",
      "source": [
        "print(df.groupby('Label').mean(numeric_only=True).head())\n"
      ],
      "metadata": {
        "colab": {
          "base_uri": "https://localhost:8080/"
        },
        "id": "-XhdFc_Pa0SE",
        "outputId": "5c9fa072-d1c0-46a6-dccf-ba5f655029f2"
      },
      "execution_count": 24,
      "outputs": [
        {
          "output_type": "stream",
          "name": "stdout",
          "text": [
            "                      Unnamed: 0   Source Port   Destination Port   Protocol  \\\n",
            "Label                                                                          \n",
            "Android_Adware       2552.402583  38823.466736        5043.178204   8.567799   \n",
            "Android_SMS_Malware  1298.765435  39615.922281        5477.187002   8.901672   \n",
            "Android_Scareware    1864.755582  39387.279035        5150.193847  12.068966   \n",
            "Benign                411.676607  38553.839759        5671.391471   8.289523   \n",
            "\n",
            "                      Flow Duration   Total Fwd Packets  \\\n",
            "Label                                                     \n",
            "Android_Adware         9.712082e+06             6.96773   \n",
            "Android_SMS_Malware    1.284981e+07             7.34184   \n",
            "Android_Scareware      1.144754e+07             8.06949   \n",
            "Benign                 1.048712e+07             7.45318   \n",
            "\n",
            "                      Total Backward Packets  Total Length of Fwd Packets  \\\n",
            "Label                                                                       \n",
            "Android_Adware                     10.504256                   511.270457   \n",
            "Android_SMS_Malware                 9.629895                   828.595991   \n",
            "Android_Scareware                  22.271075                   817.176109   \n",
            "Benign                             10.372406                   623.539944   \n",
            "\n",
            "                      Total Length of Bwd Packets   Fwd Packet Length Max  \\\n",
            "Label                                                                       \n",
            "Android_Adware                       11811.678459              193.415944   \n",
            "Android_SMS_Malware                   9596.375981              243.125614   \n",
            "Android_Scareware                    11664.998128              227.944261   \n",
            "Benign                               11084.518433              205.577948   \n",
            "\n",
            "                     ...   act_data_pkt_fwd   min_seg_size_forward  \\\n",
            "Label                ...                                             \n",
            "Android_Adware       ...           1.240737           -9435.130579   \n",
            "Android_SMS_Malware  ...           1.773971          -80974.389174   \n",
            "Android_Scareware    ...           1.745766          -27528.819484   \n",
            "Benign               ...           1.485954              26.981103   \n",
            "\n",
            "                       Active Mean    Active Std     Active Max  \\\n",
            "Label                                                             \n",
            "Android_Adware       148973.516013  16714.009098  165546.120745   \n",
            "Android_SMS_Malware  176673.834602  25982.642607  201140.008873   \n",
            "Android_Scareware    173373.476159  26225.643587  201997.471332   \n",
            "Benign               157347.031374  21968.393184  178509.951156   \n",
            "\n",
            "                        Active Min     Idle Mean       Idle Std      Idle Max  \\\n",
            "Label                                                                           \n",
            "Android_Adware       135721.080723  3.299183e+06  259331.910483  3.529933e+06   \n",
            "Android_SMS_Malware  156378.477787  5.087994e+06  414235.498164  5.449444e+06   \n",
            "Android_Scareware    153084.109027  4.335386e+06  338361.458029  4.631838e+06   \n",
            "Benign               140240.071832  3.995233e+06  312535.216256  4.256019e+06   \n",
            "\n",
            "                         Idle Min  \n",
            "Label                              \n",
            "Android_Adware       3.098588e+06  \n",
            "Android_SMS_Malware  4.765844e+06  \n",
            "Android_Scareware    4.072100e+06  \n",
            "Benign               3.758382e+06  \n",
            "\n",
            "[4 rows x 78 columns]\n"
          ]
        }
      ]
    },
    {
      "cell_type": "markdown",
      "source": [
        "Random sample of 5 rows"
      ],
      "metadata": {
        "id": "cCYb0Uiba2iq"
      }
    },
    {
      "cell_type": "code",
      "source": [
        "print(df.sample(5))\n"
      ],
      "metadata": {
        "colab": {
          "base_uri": "https://localhost:8080/"
        },
        "id": "gs7FpQiaa6Q9",
        "outputId": "37efddca-f24a-4bb7-8f7a-2670321ed204"
      },
      "execution_count": 25,
      "outputs": [
        {
          "output_type": "stream",
          "name": "stdout",
          "text": [
            "        Unnamed: 0                                 Flow ID    Source IP  \\\n",
            "264210        4475     174.35.73.99-10.42.0.211-80-60808-6  10.42.0.211   \n",
            "26571         2118   10.42.0.211-123.125.29.220-57571-80-6  10.42.0.211   \n",
            "322593        2334  172.217.12.170-10.42.0.151-443-36806-6  10.42.0.151   \n",
            "315359         285   10.42.0.211-66.231.239.124-34159-80-6  10.42.0.211   \n",
            "1725          1725   10.42.0.211-104.254.66.16-56183-443-6  10.42.0.211   \n",
            "\n",
            "         Source Port  Destination IP   Destination Port   Protocol  \\\n",
            "264210         60808    174.35.73.99               80.0        6.0   \n",
            "26571          57571  123.125.29.220               80.0        6.0   \n",
            "322593         36806  172.217.12.170              443.0        6.0   \n",
            "315359         34159  66.231.239.124               80.0        6.0   \n",
            "1725           56183   104.254.66.16              443.0        6.0   \n",
            "\n",
            "                  Timestamp   Flow Duration   Total Fwd Packets  ...  \\\n",
            "264210  28/08/2017 04:28:25           23035                   1  ...   \n",
            "26571   14/06/2017 05:01:46          256565                   1  ...   \n",
            "322593  30/06/2017 04:56:23           92373                   2  ...   \n",
            "315359  30/06/2017 02:45:35          440722                   6  ...   \n",
            "1725    13/06/2017 12:27:03        10797927                  12  ...   \n",
            "\n",
            "         min_seg_size_forward  Active Mean   Active Std   Active Max  \\\n",
            "264210                   32.0          0.0          0.0          0.0   \n",
            "26571                    20.0          0.0          0.0          0.0   \n",
            "322593                   32.0          0.0          0.0          0.0   \n",
            "315359                   20.0          0.0          0.0          0.0   \n",
            "1725                     20.0     489229.0          0.0     489229.0   \n",
            "\n",
            "         Active Min   Idle Mean   Idle Std    Idle Max    Idle Min  \\\n",
            "264210          0.0         0.0        0.0         0.0         0.0   \n",
            "26571           0.0         0.0        0.0         0.0         0.0   \n",
            "322593          0.0         0.0        0.0         0.0         0.0   \n",
            "315359          0.0         0.0        0.0         0.0         0.0   \n",
            "1725       489229.0  10308698.0        0.0  10308698.0  10308698.0   \n",
            "\n",
            "                      Label  \n",
            "264210    Android_Scareware  \n",
            "26571        Android_Adware  \n",
            "322593  Android_SMS_Malware  \n",
            "315359  Android_SMS_Malware  \n",
            "1725         Android_Adware  \n",
            "\n",
            "[5 rows x 86 columns]\n"
          ]
        }
      ]
    }
  ]
}